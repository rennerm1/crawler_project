{
 "cells": [
  {
   "cell_type": "code",
   "execution_count": 1,
   "id": "f54e080f-b127-4d53-b091-60301fc1f8eb",
   "metadata": {},
   "outputs": [],
   "source": [
    "from bs4 import BeautifulSoup as soup\n",
    "import requests\n",
    "import csv\n",
    "from time import sleep\n",
    "from random import randint"
   ]
  },
  {
   "cell_type": "code",
   "execution_count": 2,
   "id": "87320284-d57c-4855-aea4-b6b3c71890de",
   "metadata": {},
   "outputs": [],
   "source": [
    "URL = \"https://www.stepstone.de/5/ergebnisliste.html?what=Data%20Science&suid=96864f5c-62c5-4152-9c2a-bc771d184484&of={}\"\n",
    "pagenumber = {0}"
   ]
  },
  {
   "cell_type": "code",
   "execution_count": null,
   "id": "b23e0cfd-1027-48d7-a8dc-0d331870ce14",
   "metadata": {},
   "outputs": [],
   "source": [
    "<h2 class=\"sc-pJurq hXakmZ\">(Senior) Consultant / Manager (m/w/d) Data Science</h2>"
   ]
  },
  {
   "cell_type": "code",
   "execution_count": 24,
   "id": "f0dbe543-9f75-42d4-8346-b0f239ffa2af",
   "metadata": {},
   "outputs": [
    {
     "data": {
      "text/plain": [
       "['https://www.stepstone.de//stellenangebote--Senior-Consultant-Cloud-Analytics-Data-Science-m-w-d-Frankfurt-Main-Berlin-Duesseldorf-Hamburg-Koeln-Muenchen-Deloitte--8228081-inline.html',\n",
       " 'https://www.stepstone.de//stellenangebote--Senior-Consultant-Manager-m-w-d-Data-Science-Duesseldorf-Frankfurt-am-Main-Koeln-Muenchen-Horn-Company-Data-Analytics-GmbH--7585634-inline.html',\n",
       " 'https://www.stepstone.de//stellenangebote--Senior-Manager-Data-Science-w-m-d-Duesseldorf-Frankfurt-a-M-Hamburg-Muenchen-Stuttgart-PwC--7602422-inline.html',\n",
       " 'https://www.stepstone.de//stellenangebote--Senior-Data-Science-Manager-m-w-d-Wiesbaden-R-V-Allgemeine-Versicherung-AG--8113999-inline.html',\n",
       " 'https://www.stepstone.de//stellenangebote--Data-Steward-m-f-d-at-the-Munich-Data-Science-Institute-Garching-Technische-Universitaet-Muenchen--8171365-inline.html',\n",
       " 'https://www.stepstone.de//stellenangebote--Data-Science-Manager-Vendor-Performance-f-m-d-Berlin-Delivery-Hero-SE--7881900-inline.html',\n",
       " 'https://www.stepstone.de//stellenangebote--Senior-Data-Science-Manager-Berlin-Delivery-Hero-SE--7881864-inline.html',\n",
       " 'https://www.stepstone.de//stellenangebote--Head-of-Data-Science-Berlin-Schoeneberg-NEW-YORKER--8113018-inline.html',\n",
       " 'https://www.stepstone.de//stellenangebote--Manager-Data-Science-Location-f-m-d-Berlin-Delivery-Hero-SE--7881695-inline.html',\n",
       " 'https://www.stepstone.de//stellenangebote--Manager-Data-Science-Quick-Commerce-f-m-d-Berlin-Delivery-Hero-SE--7881705-inline.html',\n",
       " 'https://www.stepstone.de//stellenangebote--Praktikant-m-w-d-Analytics-Data-Science-Koeln-REWE-Group--8114456-inline.html',\n",
       " 'https://www.stepstone.de//stellenangebote--System-Data-Architect-Data-Experience-Data-Science-f-m-div-Stuttgart-Bosch-Gruppe--7889173-inline.html',\n",
       " 'https://www.stepstone.de//stellenangebote--Senior-Consultant-Projektmanagement-Data-Science-EY-etventure-Voll-und-Teilzeit-w-m-d-Berlin-Muenchen-Ernst-Young-GmbH-Wirtschaftspruefungsgesellschaft--7519127-inline.html',\n",
       " 'https://www.stepstone.de//stellenangebote--Senior-Manager-Data-Science-Adtech-f-m-d-bundesweit-Delivery-Hero-SE--7937686-inline.html',\n",
       " 'https://www.stepstone.de//stellenangebote--Senior-Manager-Data-Science-Ranking-f-m-d-bundesweit-Delivery-Hero-SE--7937646-inline.html',\n",
       " 'https://www.stepstone.de//stellenangebote--Duales-Studium-Bachelor-of-Science-m-w-d-Wirtschaftsinformatik-Data-Science-Muenchen-Nuernberg-Telefonica-Germany-GmbH-Co-OHG--7335698-inline.html',\n",
       " 'https://www.stepstone.de//stellenangebote--Duales-BA-Studium-Wirtschaftsinformatik-Data-Science-m-w-d-Duesseldorf-Publicis-Media-GmbH--8123774-inline.html',\n",
       " 'https://www.stepstone.de//stellenangebote--Teamassistenz-m-w-d-am-MDSI-Munich-Data-Science-Institute-Garching-Technische-Universitaet-Muenchen--8171446-inline.html',\n",
       " 'https://www.stepstone.de//stellenangebote--Praktikant-Werkstudent-m-w-d-Brennstoffzellen-Testing-Data-Science-Data-Engineering-Nabern-cellcentric-GmbH-Co-KG--8176956-inline.html',\n",
       " 'https://www.stepstone.de//stellenangebote--Working-Student-Data-Science-Additive-Manufacturing-m-w-x-Oberkochen-Baden-Wuerttemberg-ZEISS--8176479-inline.html',\n",
       " 'https://www.stepstone.de//stellenangebote--Data-Science-Artificial-Intelligence-Manager-m-w-d-Muenchen-CHECK24--8192053-inline.html',\n",
       " 'https://www.stepstone.de//stellenangebote--Data-Science-Accountant-w-m-x-Muenchen-BMW-Group--8121297-inline.html',\n",
       " 'https://www.stepstone.de//stellenangebote--Teamleiter-m-w-d-Data-Science-Visualization-Rheine-apetito-AG--8167876-inline.html',\n",
       " 'https://www.stepstone.de//stellenangebote--Manager-Data-Science-Munich-Munich-Amazon-Europe-Core--8130508-inline.html',\n",
       " 'https://www.stepstone.de//stellenangebote--WERKSTUDENT-DATA-SCIENCE-INNOVATION-PARTNERSHIPS-Muenchen-Conde-Nast-Germany-GmbH--8169229-inline.html']"
      ]
     },
     "execution_count": 24,
     "metadata": {},
     "output_type": "execute_result"
    }
   ],
   "source": [
    "mylist = []\n",
    "for number in pagenumber:\n",
    "    source = requests.get(URL.format(number))\n",
    "    sleep(randint(2,5))\n",
    "    jobs = soup(source.content,\"html.parser\")\n",
    "\n",
    "    cont = jobs.find_all(\"a\", class_=\"sc-pAZqv cyGFEN\")\n",
    "    for names in cont:\n",
    "        refs = names.get(\"href\")\n",
    "        mylist.append(refs)\n",
    "        \n",
    "        \n",
    "def prepend(list, str):\n",
    "       \n",
    "    # Using format()\n",
    "    str += '{0}'\n",
    "    list = [str.format(i) for i in list]\n",
    "    return(list)\n",
    "   \n",
    "# Driver function\n",
    "list = mylist\n",
    "str = 'https://www.stepstone.de/'\n",
    "mylist_new = prepend(list,str)\n",
    "mylist_new"
   ]
  },
  {
   "cell_type": "code",
   "execution_count": null,
   "id": "1c3b2d03-a90d-4fe2-895d-c7f57324c43a",
   "metadata": {},
   "outputs": [],
   "source": [
    "<article id=\"job-item-7585634\" data-at=\"job-item\" class=\"sc-oUcyK bjwYoi\">"
   ]
  },
  {
   "cell_type": "code",
   "execution_count": 5,
   "id": "90e7dfb6-5924-4a26-b108-00b7ac23b00d",
   "metadata": {},
   "outputs": [
    {
     "data": {
      "text/plain": [
       "[[]]"
      ]
     },
     "execution_count": 5,
     "metadata": {},
     "output_type": "execute_result"
    }
   ],
   "source": [
    "class=\"sc-pAZqv cyGFEN\""
   ]
  },
  {
   "cell_type": "code",
   "execution_count": null,
   "id": "2dd35602-f614-4630-a852-6473bed9a8f0",
   "metadata": {},
   "outputs": [],
   "source": [
    "<article id=\"job-item-8228081\" data-at=\"job-item\" class=\"sc-oUcyK bjwYoi\"><div class=\"sc-pYA-dN jmCwRt\"><div class=\"sc-oUoif gkiAsu\"><div class=\"sc-fzonZV iUXNqF\"><a href=\"https://www.stepstone.de/cmp/de/deloitte-92380/jobs\" data-at=\"company-logo\" class=\"sc-fzqyOu eBYBMK\"><img alt=\"Deloitte\" src=\"https://media.stepstone.com/upload_de/logo/D/logoDeloitte-GmbH-Wirtschaftsprufungsgesellschaft-92380DE.gif\" class=\"LogoImageStyled-sc-1v4cep4-0 izIIhY\"></a></div></div><div class=\"sc-pbYBj cOmlhK\"><div class=\"sc-qPlga fTbDst\"><a target=\"_blank\" data-at=\"job-item-title\" href=\"/stellenangebote--Senior-Consultant-Cloud-Analytics-Data-Science-m-w-d-Frankfurt-Main-Berlin-Duesseldorf-Hamburg-Koeln-Muenchen-Deloitte--8228081-inline.html\" class=\"sc-pAZqv cyGFEN\"><h2 class=\"sc-pJurq hXakmZ\">(Senior) Consultant Cloud Analytics &amp; Data Science (m/w/d)</h2></a></div><div data-at=\"job-item-company-name\" class=\"sc-pIJJz cqcAcN\">Deloitte</div><ul class=\"sc-prorn eNfRla\"><li data-at=\"job-item-location\" class=\"sc-qQMSE gzFHUw sc-pBzUF eUumVw\">Frankfurt (Main), Berlin, Düsseldorf, Hamburg, Köln, München</li></ul></div></div><div class=\"sc-qXhiz gPSNzo\"><div class=\"sc-pkUbs gGSmjI\"><div aria-expanded=\"false\" data-offer-meta-text-snippet=\"\" class=\"sc-qYiqT bvaVua\"><a data-offer-meta-text-snippet-link=\"true\" href=\"/stellenangebote--Senior-Consultant-Cloud-Analytics-Data-Science-m-w-d-Frankfurt-Main-Berlin-Duesseldorf-Hamburg-Koeln-Muenchen-Deloitte--8228081-inline.html?suid=96864f5c-62c5-4152-9c2a-bc771d184484&amp;rltr=1_1_25_dynrl_m_0_0_0_0_0_0\" target=\"_blank\" class=\"sc-prOVx sc-qQmou ieQa-dH\"><span>Im Team Analytics Strategy &amp; Enablement definierst du mit Kunden Analytics-Strategien, prüfst den Mehrwert von <strong>Data</strong>-<strong>Science-</strong> und Visual-Analytics-Lösungen und begleitest ihre Implementierung. Du willst im Bereich Consulting - Artificial Intelligence and <strong>Data</strong> helfen, aus Daten Sinn zu stiften?</span></a><div class=\"sc-pliRl gZPYaZ\"><div class=\"sc-qPwPv iTJQIT at-text-snippet-expand\"><span fill=\"#3a434f\" class=\"sc-AxjAm bUCHPi sc-pAncQ fzyysf\"><svg viewBox=\"0 0 20 20\"><path d=\"M.153 5.693a.588.588 0 01.755-.098l.076.058L10 13.85l9.016-8.195a.588.588 0 01.761-.026l.07.065a.59.59 0 01.026.762l-.066.07-9.096 8.269a1.057 1.057 0 01-1.324.077l-.097-.078-9.097-8.27a.588.588 0 01-.04-.831z\" fill-rule=\"evenodd\"></path></svg></span><span class=\"sc-qXRQq eZMKXh\">mehr</span></div></div></div></div><div class=\"sc-pliRl gZPYaZ\"><div class=\"sc-qPwPv bcUnhp at-text-snippet-expand\"><span fill=\"#3a434f\" class=\"sc-AxjAm bUCHPi sc-pAncQ fzyysf\"><svg viewBox=\"0 0 20 20\"><path d=\"M.153 5.693a.588.588 0 01.755-.098l.076.058L10 13.85l9.016-8.195a.588.588 0 01.761-.026l.07.065a.59.59 0 01.026.762l-.066.07-9.096 8.269a1.057 1.057 0 01-1.324.077l-.097-.078-9.097-8.27a.588.588 0 01-.04-.831z\" fill-rule=\"evenodd\"></path></svg></span><span class=\"sc-qXRQq eZMKXh\">mehr</span></div></div><div class=\"sc-pQSRh Riloa\"><ul class=\"sc-prorn dSyhLM\"><li data-at=\"job-item-timeago\" class=\"sc-qQMSE imiLIZ\"><time class=\"sc-pRtAn jSkkXb\" datetime=\"2022-04-26T20:56:29+02:00\" timeago-id=\"20\">vor 2 Stunden</time></li></ul><div class=\"sc-pZnSc kzRhgm\"><div class=\"sc-pcJja eLiFtN\"><div class=\"sc-psQdR HXJTq\"><span data-offerid=\"8228081\" data-at=\"listing-save-icon\" class=\"sc-fzqPZZ egCvow sc-1n0c44n-0 brexZx\" fill=\"currentColor\"><svg viewBox=\"0 0 20 20\"><path d=\"M4.488 1.568A5.368 5.368 0 00.565 4.41l-.101.21a5.232 5.232 0 00.938 5.72l8.175 8.418a.588.588 0 00.844 0l8.022-8.261a5.224 5.224 0 00.992-6.084l-.123-.226a5.375 5.375 0 00-3.802-2.619l-.24-.033a5.369 5.369 0 00-4.374 1.508L10 3.86l-.913-.833a5.356 5.356 0 00-4.598-1.46zM15.324 2.73c1.244.2 2.332.947 2.963 2.035l.108.197.089.188a4.049 4.049 0 01-.728 4.366l-7.757 7.987-7.6-7.826a4.056 4.056 0 01-.868-4.562l.087-.182A4.191 4.191 0 018.276 3.88l1.327 1.21a.588.588 0 00.793 0l1.31-1.194a4.204 4.204 0 013.618-1.167z\" fill-rule=\"evenodd\"></path></svg></span></div></div></div></div></div></article>"
   ]
  },
  {
   "cell_type": "code",
   "execution_count": null,
   "id": "ab8292a0-96c1-4351-a4c7-0fc0ebc4740e",
   "metadata": {},
   "outputs": [],
   "source": [
    "class=\"sc-qPlga fTbDst\""
   ]
  }
 ],
 "metadata": {
  "kernelspec": {
   "display_name": "Python [conda env:ox] *",
   "language": "python",
   "name": "conda-env-ox-py"
  },
  "language_info": {
   "codemirror_mode": {
    "name": "ipython",
    "version": 3
   },
   "file_extension": ".py",
   "mimetype": "text/x-python",
   "name": "python",
   "nbconvert_exporter": "python",
   "pygments_lexer": "ipython3",
   "version": "3.9.7"
  }
 },
 "nbformat": 4,
 "nbformat_minor": 5
}
