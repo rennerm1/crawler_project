{
 "cells": [
  {
   "cell_type": "code",
   "execution_count": null,
   "id": "f54e080f-b127-4d53-b091-60301fc1f8eb",
   "metadata": {},
   "outputs": [],
   "source": [
    "from bs4 import BeautifulSoup as soup\n",
    "import requests\n",
    "import csv\n",
    "from time import sleep\n",
    "from random import randint\n",
    "import urllib"
   ]
  },
  {
   "cell_type": "code",
   "execution_count": null,
   "id": "ebb68dc1-b40b-4f26-90fb-b1c9a5216e68",
   "metadata": {},
   "outputs": [],
   "source": [
    "import pandas as pd"
   ]
  },
  {
   "cell_type": "code",
   "execution_count": null,
   "id": "87320284-d57c-4855-aea4-b6b3c71890de",
   "metadata": {},
   "outputs": [],
   "source": [
    "URL = \"https://www.stepstone.de/5/ergebnisliste.html?what=Data%20Science&suid=96864f5c-62c5-4152-9c2a-bc771d184484&of={}\"\n",
    "pagenumber = {0}"
   ]
  },
  {
   "cell_type": "code",
   "execution_count": null,
   "id": "26ebbcef-2af6-4d89-9330-860ee2e5c839",
   "metadata": {},
   "outputs": [],
   "source": [
    "content: dict = {\n",
    "    \"Cname\": [],\n",
    "    \"title\":[],\n",
    "    \"url\": []\n",
    "}"
   ]
  },
  {
   "cell_type": "code",
   "execution_count": null,
   "id": "f0dbe543-9f75-42d4-8346-b0f239ffa2af",
   "metadata": {},
   "outputs": [],
   "source": [
    "mylist = []\n",
    "for number in pagenumber:\n",
    "    source = requests.get(URL.format(number))\n",
    "    sleep(randint(10,15))\n",
    "    jobs = soup(source.content,\"html.parser\")\n",
    "    comp = jobs.find_all(\"div\", class_=\"sc-pIJJz cqcAcN\")\n",
    "    cont = jobs.find_all(\"a\", class_=\"sc-pAZqv cyGFEN\")\n",
    "    for names in cont:\n",
    "        refs = names.get(\"href\")\n",
    "        mylist.append(refs)\n",
    "\n",
    "        \n",
    "def prepend(list, str):\n",
    "       \n",
    "    # Using format()\n",
    "    str += '{0}'\n",
    "    list = [str.format(i) for i in list]\n",
    "    return(list)\n",
    "   \n",
    "# Driver function\n",
    "list = mylist\n",
    "str = 'https://www.stepstone.de/'\n",
    "mylist_new = prepend(list,str)\n",
    "content[\"url\"].append(mylist_new)\n",
    "mylist_new"
   ]
  },
  {
   "cell_type": "code",
   "execution_count": null,
   "id": "bfa3f9fa-f70f-45c6-ac0e-a289d7998ad0",
   "metadata": {},
   "outputs": [],
   "source": [
    "comp_l = []\n",
    "for number in pagenumber:\n",
    "    source = requests.get(URL.format(number))\n",
    "    sleep(randint(10,15))\n",
    "    jobs = soup(source.content,\"html.parser\")\n",
    "    #comp = jobs.find_all(\"div\", class_=\"sc-pIJJz cqcAcN\")\n",
    "    \n",
    "    for comps in jobs.find_all(\"div\", class_=\"sc-pIJJz cqcAcN\"):\n",
    "        name1 = comps.text\n",
    "        comp_l.append(name1)\n",
    "    \n",
    "comp_l"
   ]
  },
  {
   "cell_type": "code",
   "execution_count": null,
   "id": "ed40d323-42de-4fc5-a51e-14d1ad2de792",
   "metadata": {},
   "outputs": [],
   "source": [
    "content[\"Cname\"].append(comp_l)"
   ]
  },
  {
   "cell_type": "code",
   "execution_count": null,
   "id": "98d1de6b-f16b-4a11-aaa5-92a5435b4b80",
   "metadata": {},
   "outputs": [],
   "source": [
    "job_title = []\n",
    "for number in pagenumber:\n",
    "    source = requests.get(URL.format(number))\n",
    "    sleep(randint(10,15))\n",
    "    jobs = soup(source.content,\"html.parser\")\n",
    "    #comp = jobs.find_all(\"div\", class_=\"sc-pIJJz cqcAcN\")\n",
    "    \n",
    "    for title in jobs.find_all(\"h2\", class_=\"sc-pJurq hXakmZ\"):\n",
    "        tit = title.text\n",
    "        job_title.append(tit)\n",
    "    \n",
    "job_title"
   ]
  },
  {
   "cell_type": "code",
   "execution_count": null,
   "id": "cc900097-8ab0-482d-b9ec-9bdc69d68fbc",
   "metadata": {},
   "outputs": [],
   "source": [
    "content[\"title\"].append(job_title)"
   ]
  },
  {
   "cell_type": "code",
   "execution_count": null,
   "id": "4862a945-1b5e-4b6b-aacd-216d88bf356b",
   "metadata": {},
   "outputs": [],
   "source": [
    "lst_tit = [job_title[i:i+1] for i in range(0, len(job_title), 1)]  \n",
    "lst_tit"
   ]
  },
  {
   "cell_type": "code",
   "execution_count": null,
   "id": "02574f74-5429-4a05-84e5-3011b2bc97e1",
   "metadata": {},
   "outputs": [],
   "source": [
    "lst_url = [mylist_new[i:i+1] for i in range(0, len(mylist_new), 1)]  \n",
    "lst_url"
   ]
  },
  {
   "cell_type": "code",
   "execution_count": null,
   "id": "bc4e8465-6abb-4626-8dbf-d626dc691119",
   "metadata": {},
   "outputs": [],
   "source": [
    "lst_name = [comp_l[i:i+1] for i in range(0, len(comp_l), 1)]  \n",
    "lst_name"
   ]
  },
  {
   "cell_type": "code",
   "execution_count": null,
   "id": "c2ffa0c6-d823-4a66-bb57-4a877684a8a9",
   "metadata": {},
   "outputs": [],
   "source": [
    "df2 = pd.DataFrame()\n",
    "df2[\"url\"] = lst_url\n",
    "df2"
   ]
  },
  {
   "cell_type": "code",
   "execution_count": null,
   "id": "1f992d44-7893-4ce4-9003-369a98a213cf",
   "metadata": {},
   "outputs": [],
   "source": [
    "df2['url'] = df2['url'].str[0]\n",
    "df2"
   ]
  },
  {
   "cell_type": "code",
   "execution_count": null,
   "id": "ce4e8458-c662-45d9-bcdd-6cef0754ab3b",
   "metadata": {},
   "outputs": [],
   "source": [
    "df2[\"Company_Name\"] = lst_name\n",
    "df2['Company_Name'] = df2['Company_Name'].str[0]\n",
    "df2[\"Title\"] = lst_tit\n",
    "df2[\"Title\"] = df2[\"Title\"].str[0]\n",
    "df2"
   ]
  },
  {
   "cell_type": "code",
   "execution_count": 46,
   "id": "cb67fc04-f483-44d7-b610-d55eb8305d31",
   "metadata": {},
   "outputs": [
    {
     "data": {
      "text/html": [
       "<div>\n",
       "<style scoped>\n",
       "    .dataframe tbody tr th:only-of-type {\n",
       "        vertical-align: middle;\n",
       "    }\n",
       "\n",
       "    .dataframe tbody tr th {\n",
       "        vertical-align: top;\n",
       "    }\n",
       "\n",
       "    .dataframe thead th {\n",
       "        text-align: right;\n",
       "    }\n",
       "</style>\n",
       "<table border=\"1\" class=\"dataframe\">\n",
       "  <thead>\n",
       "    <tr style=\"text-align: right;\">\n",
       "      <th></th>\n",
       "      <th>url</th>\n",
       "      <th>Company_Name</th>\n",
       "      <th>Title</th>\n",
       "    </tr>\n",
       "  </thead>\n",
       "  <tbody>\n",
       "    <tr>\n",
       "      <th>0</th>\n",
       "      <td>https://www.stepstone.de//stellenangebote--Pro...</td>\n",
       "      <td>Schaeffler Automotive Aftermarket GmbH &amp; Co. KG</td>\n",
       "      <td>Professional Data Science &amp; Analytics (m/w/d)</td>\n",
       "    </tr>\n",
       "    <tr>\n",
       "      <th>1</th>\n",
       "      <td>https://www.stepstone.de//stellenangebote--Pro...</td>\n",
       "      <td>Schaeffler Automotive Aftermarket GmbH &amp; Co. KG</td>\n",
       "      <td>Professional Data Science &amp; Analytics (m/w/d)</td>\n",
       "    </tr>\n",
       "    <tr>\n",
       "      <th>2</th>\n",
       "      <td>https://www.stepstone.de//stellenangebote--Dat...</td>\n",
       "      <td>CHECK24</td>\n",
       "      <td>Data Science &amp; Artificial Intelligence Manager...</td>\n",
       "    </tr>\n",
       "    <tr>\n",
       "      <th>3</th>\n",
       "      <td>https://www.stepstone.de//stellenangebote--Man...</td>\n",
       "      <td>Ernst &amp; Young GmbH Wirtschaftsprüfungsgesellsc...</td>\n",
       "      <td>Manager Data Science &amp; Machine Learning - Data...</td>\n",
       "    </tr>\n",
       "    <tr>\n",
       "      <th>4</th>\n",
       "      <td>https://www.stepstone.de//stellenangebote--Dat...</td>\n",
       "      <td>Trade Republic Bank GmbH</td>\n",
       "      <td>Data Science and Engineering Manager - Machine...</td>\n",
       "    </tr>\n",
       "    <tr>\n",
       "      <th>5</th>\n",
       "      <td>https://www.stepstone.de//stellenangebote--Sen...</td>\n",
       "      <td>Deloitte</td>\n",
       "      <td>(Senior) Consultant Cloud Analytics &amp; Data Sci...</td>\n",
       "    </tr>\n",
       "    <tr>\n",
       "      <th>6</th>\n",
       "      <td>https://www.stepstone.de//stellenangebote--Sen...</td>\n",
       "      <td>Grant Thornton AG Wirtschaftsprüfungsgesellschaft</td>\n",
       "      <td>(Senior) Consultant/Assistant Manager (m/w/d) ...</td>\n",
       "    </tr>\n",
       "    <tr>\n",
       "      <th>7</th>\n",
       "      <td>https://www.stepstone.de//stellenangebote--Sen...</td>\n",
       "      <td>Horn &amp; Company Data Analytics GmbH</td>\n",
       "      <td>(Senior) Consultant / Manager (m/w/d) Data Sci...</td>\n",
       "    </tr>\n",
       "    <tr>\n",
       "      <th>8</th>\n",
       "      <td>https://www.stepstone.de//stellenangebote--Dat...</td>\n",
       "      <td>Technische Universität München</td>\n",
       "      <td>Data Steward (m/f/d) at the Munich Data Scienc...</td>\n",
       "    </tr>\n",
       "    <tr>\n",
       "      <th>9</th>\n",
       "      <td>https://www.stepstone.de//stellenangebote--Sen...</td>\n",
       "      <td>PwC</td>\n",
       "      <td>(Senior) Manager Data Science (w/m/d)</td>\n",
       "    </tr>\n",
       "    <tr>\n",
       "      <th>10</th>\n",
       "      <td>https://www.stepstone.de//stellenangebote--Dat...</td>\n",
       "      <td>Sopra Steria</td>\n",
       "      <td>Data Science Business Consultant / AI Project ...</td>\n",
       "    </tr>\n",
       "    <tr>\n",
       "      <th>11</th>\n",
       "      <td>https://www.stepstone.de//stellenangebote--Leh...</td>\n",
       "      <td>Fachhochschule Südwestfalen</td>\n",
       "      <td>Lehrkraft (m/w/d) für besondere Aufgaben – (Wi...</td>\n",
       "    </tr>\n",
       "    <tr>\n",
       "      <th>12</th>\n",
       "      <td>https://www.stepstone.de//stellenangebote--Pro...</td>\n",
       "      <td>ZEISS</td>\n",
       "      <td>Prozessingenieur Production &amp; IoT - Data Scien...</td>\n",
       "    </tr>\n",
       "    <tr>\n",
       "      <th>13</th>\n",
       "      <td>https://www.stepstone.de//stellenangebote--Wer...</td>\n",
       "      <td>Sopra Steria</td>\n",
       "      <td>Werkstudent Data Science &amp; Künstliche Intellig...</td>\n",
       "    </tr>\n",
       "    <tr>\n",
       "      <th>14</th>\n",
       "      <td>https://www.stepstone.de//stellenangebote--Dat...</td>\n",
       "      <td>Delivery Hero SE</td>\n",
       "      <td>Data Science Manager - Vendor Performance (f/m/d)</td>\n",
       "    </tr>\n",
       "    <tr>\n",
       "      <th>15</th>\n",
       "      <td>https://www.stepstone.de//stellenangebote--Sen...</td>\n",
       "      <td>Delivery Hero SE</td>\n",
       "      <td>(Senior) Data Science Manager</td>\n",
       "    </tr>\n",
       "    <tr>\n",
       "      <th>16</th>\n",
       "      <td>https://www.stepstone.de//stellenangebote--Man...</td>\n",
       "      <td>Delivery Hero SE</td>\n",
       "      <td>Manager Data Science, Location (f/m/d)</td>\n",
       "    </tr>\n",
       "    <tr>\n",
       "      <th>17</th>\n",
       "      <td>https://www.stepstone.de//stellenangebote--Ana...</td>\n",
       "      <td>BearingPoint GmbH</td>\n",
       "      <td>Analyst Data Science &amp; Artificial Intelligence...</td>\n",
       "    </tr>\n",
       "    <tr>\n",
       "      <th>18</th>\n",
       "      <td>https://www.stepstone.de//stellenangebote--Man...</td>\n",
       "      <td>Delivery Hero SE</td>\n",
       "      <td>Manager, Data Science - Quick Commerce (f/m/d)</td>\n",
       "    </tr>\n",
       "    <tr>\n",
       "      <th>19</th>\n",
       "      <td>https://www.stepstone.de//stellenangebote--Sen...</td>\n",
       "      <td>Delivery Hero SE</td>\n",
       "      <td>Senior Manager, Data Science - Adtech (f/m/d)</td>\n",
       "    </tr>\n",
       "    <tr>\n",
       "      <th>20</th>\n",
       "      <td>https://www.stepstone.de//stellenangebote--Sen...</td>\n",
       "      <td>Delivery Hero SE</td>\n",
       "      <td>(Senior) Manager Data Science - Ranking (f/m/d)</td>\n",
       "    </tr>\n",
       "    <tr>\n",
       "      <th>21</th>\n",
       "      <td>https://www.stepstone.de//stellenangebote--Dat...</td>\n",
       "      <td>Statkraft Markets GmbH</td>\n",
       "      <td>Data Science Internship in Portfolio Managemen...</td>\n",
       "    </tr>\n",
       "    <tr>\n",
       "      <th>22</th>\n",
       "      <td>https://www.stepstone.de//stellenangebote--Wer...</td>\n",
       "      <td>ZEISS</td>\n",
       "      <td>Product Owner - Data Science / Machine Learnin...</td>\n",
       "    </tr>\n",
       "    <tr>\n",
       "      <th>23</th>\n",
       "      <td>https://www.stepstone.de//stellenangebote--Pro...</td>\n",
       "      <td>Generalzolldirektion</td>\n",
       "      <td>Werkstudent/Werkstudentin Data Science</td>\n",
       "    </tr>\n",
       "    <tr>\n",
       "      <th>24</th>\n",
       "      <td>https://www.stepstone.de//stellenangebote--Sys...</td>\n",
       "      <td>Bosch Gruppe</td>\n",
       "      <td>System Data Architect - Data Experience &amp; Data...</td>\n",
       "    </tr>\n",
       "  </tbody>\n",
       "</table>\n",
       "</div>"
      ],
      "text/plain": [
       "                                                  url  \\\n",
       "0   https://www.stepstone.de//stellenangebote--Pro...   \n",
       "1   https://www.stepstone.de//stellenangebote--Pro...   \n",
       "2   https://www.stepstone.de//stellenangebote--Dat...   \n",
       "3   https://www.stepstone.de//stellenangebote--Man...   \n",
       "4   https://www.stepstone.de//stellenangebote--Dat...   \n",
       "5   https://www.stepstone.de//stellenangebote--Sen...   \n",
       "6   https://www.stepstone.de//stellenangebote--Sen...   \n",
       "7   https://www.stepstone.de//stellenangebote--Sen...   \n",
       "8   https://www.stepstone.de//stellenangebote--Dat...   \n",
       "9   https://www.stepstone.de//stellenangebote--Sen...   \n",
       "10  https://www.stepstone.de//stellenangebote--Dat...   \n",
       "11  https://www.stepstone.de//stellenangebote--Leh...   \n",
       "12  https://www.stepstone.de//stellenangebote--Pro...   \n",
       "13  https://www.stepstone.de//stellenangebote--Wer...   \n",
       "14  https://www.stepstone.de//stellenangebote--Dat...   \n",
       "15  https://www.stepstone.de//stellenangebote--Sen...   \n",
       "16  https://www.stepstone.de//stellenangebote--Man...   \n",
       "17  https://www.stepstone.de//stellenangebote--Ana...   \n",
       "18  https://www.stepstone.de//stellenangebote--Man...   \n",
       "19  https://www.stepstone.de//stellenangebote--Sen...   \n",
       "20  https://www.stepstone.de//stellenangebote--Sen...   \n",
       "21  https://www.stepstone.de//stellenangebote--Dat...   \n",
       "22  https://www.stepstone.de//stellenangebote--Wer...   \n",
       "23  https://www.stepstone.de//stellenangebote--Pro...   \n",
       "24  https://www.stepstone.de//stellenangebote--Sys...   \n",
       "\n",
       "                                         Company_Name  \\\n",
       "0     Schaeffler Automotive Aftermarket GmbH & Co. KG   \n",
       "1     Schaeffler Automotive Aftermarket GmbH & Co. KG   \n",
       "2                                             CHECK24   \n",
       "3   Ernst & Young GmbH Wirtschaftsprüfungsgesellsc...   \n",
       "4                            Trade Republic Bank GmbH   \n",
       "5                                            Deloitte   \n",
       "6   Grant Thornton AG Wirtschaftsprüfungsgesellschaft   \n",
       "7                  Horn & Company Data Analytics GmbH   \n",
       "8                      Technische Universität München   \n",
       "9                                                 PwC   \n",
       "10                                       Sopra Steria   \n",
       "11                        Fachhochschule Südwestfalen   \n",
       "12                                              ZEISS   \n",
       "13                                       Sopra Steria   \n",
       "14                                   Delivery Hero SE   \n",
       "15                                   Delivery Hero SE   \n",
       "16                                   Delivery Hero SE   \n",
       "17                                  BearingPoint GmbH   \n",
       "18                                   Delivery Hero SE   \n",
       "19                                   Delivery Hero SE   \n",
       "20                                   Delivery Hero SE   \n",
       "21                             Statkraft Markets GmbH   \n",
       "22                                              ZEISS   \n",
       "23                               Generalzolldirektion   \n",
       "24                                       Bosch Gruppe   \n",
       "\n",
       "                                                Title  \n",
       "0       Professional Data Science & Analytics (m/w/d)  \n",
       "1       Professional Data Science & Analytics (m/w/d)  \n",
       "2   Data Science & Artificial Intelligence Manager...  \n",
       "3   Manager Data Science & Machine Learning - Data...  \n",
       "4   Data Science and Engineering Manager - Machine...  \n",
       "5   (Senior) Consultant Cloud Analytics & Data Sci...  \n",
       "6   (Senior) Consultant/Assistant Manager (m/w/d) ...  \n",
       "7   (Senior) Consultant / Manager (m/w/d) Data Sci...  \n",
       "8   Data Steward (m/f/d) at the Munich Data Scienc...  \n",
       "9               (Senior) Manager Data Science (w/m/d)  \n",
       "10  Data Science Business Consultant / AI Project ...  \n",
       "11  Lehrkraft (m/w/d) für besondere Aufgaben – (Wi...  \n",
       "12  Prozessingenieur Production & IoT - Data Scien...  \n",
       "13  Werkstudent Data Science & Künstliche Intellig...  \n",
       "14  Data Science Manager - Vendor Performance (f/m/d)  \n",
       "15                      (Senior) Data Science Manager  \n",
       "16             Manager Data Science, Location (f/m/d)  \n",
       "17  Analyst Data Science & Artificial Intelligence...  \n",
       "18     Manager, Data Science - Quick Commerce (f/m/d)  \n",
       "19      Senior Manager, Data Science - Adtech (f/m/d)  \n",
       "20    (Senior) Manager Data Science - Ranking (f/m/d)  \n",
       "21  Data Science Internship in Portfolio Managemen...  \n",
       "22  Product Owner - Data Science / Machine Learnin...  \n",
       "23             Werkstudent/Werkstudentin Data Science  \n",
       "24  System Data Architect - Data Experience & Data...  "
      ]
     },
     "execution_count": 46,
     "metadata": {},
     "output_type": "execute_result"
    }
   ],
   "source": [
    "df2"
   ]
  },
  {
   "cell_type": "code",
   "execution_count": null,
   "id": "90e7dfb6-5924-4a26-b108-00b7ac23b00d",
   "metadata": {
    "jupyter": {
     "source_hidden": true
    },
    "tags": []
   },
   "outputs": [],
   "source": [
    "class=\"sc-pAZqv cyGFEN\""
   ]
  },
  {
   "cell_type": "code",
   "execution_count": null,
   "id": "ab8292a0-96c1-4351-a4c7-0fc0ebc4740e",
   "metadata": {
    "jupyter": {
     "source_hidden": true
    },
    "tags": []
   },
   "outputs": [],
   "source": [
    "htm2= urllib.request.urlopen(mylist_new).read()\n",
    "job_de = soup(htm2)\n",
    "requirements = job_de.find_all(\"div\", class_=\"sc-kafWEX gSShHZ sc-cIShpX huqlzG\")\n",
    "de_list = []\n",
    "for reqs in requirements:\n",
    "    desc = reqs.text()\n",
    "    de_list.append(refs)"
   ]
  },
  {
   "cell_type": "code",
   "execution_count": null,
   "id": "9d4d12e2-0c5a-478e-9c6d-8548a45b4aa4",
   "metadata": {
    "jupyter": {
     "source_hidden": true
    },
    "tags": []
   },
   "outputs": [],
   "source": [
    "import requests\n",
    "links=['http://regsho.finra.org/FNSQshvol20170117.txt','http://regsho.finra.org/FNSQshvol20170118.txt']\n",
    "for url in links:\n",
    "    page = requests.get(url)\n",
    "    print(page.text)"
   ]
  },
  {
   "cell_type": "code",
   "execution_count": null,
   "id": "65d4547b-3374-461e-b3d5-3c43a26ffba2",
   "metadata": {
    "jupyter": {
     "source_hidden": true
    },
    "tags": []
   },
   "outputs": [],
   "source": [
    "Job Requirements = class=\"sc-kafWEX gSShHZ sc-cIShpX huqlzG\""
   ]
  }
 ],
 "metadata": {
  "kernelspec": {
   "display_name": "Python [conda env:ox] *",
   "language": "python",
   "name": "conda-env-ox-py"
  },
  "language_info": {
   "codemirror_mode": {
    "name": "ipython",
    "version": 3
   },
   "file_extension": ".py",
   "mimetype": "text/x-python",
   "name": "python",
   "nbconvert_exporter": "python",
   "pygments_lexer": "ipython3",
   "version": "3.9.7"
  }
 },
 "nbformat": 4,
 "nbformat_minor": 5
}
